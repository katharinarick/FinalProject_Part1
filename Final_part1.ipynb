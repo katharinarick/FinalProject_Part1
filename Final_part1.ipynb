{
 "cells": [
  {
   "cell_type": "markdown",
   "metadata": {},
   "source": [
    "# Preferred: Problem Statements for Dataset 5 Fuel Economy Data"
   ]
  },
  {
   "cell_type": "markdown",
   "metadata": {},
   "source": [
    "The fuel economy data contains year by year usage information from 1984 through to 2017. The dataset includes a variety of car makes and models (about 133 unique makes). The information allows to play around with several potential problem statements."
   ]
  },
  {
   "cell_type": "markdown",
   "metadata": {},
   "source": [
    "## Option 1: Consumer decision"
   ]
  },
  {
   "cell_type": "markdown",
   "metadata": {},
   "source": [
    "Buying a car is a substantive investment. The consumer needs to balance these factors in reaching a decision:\n",
    "    1. gas mileage ratio: minimize gallons per miles\n",
    "    2. total spend on fuel\n",
    "    3. original cost of purchase per vehicle {which is not included in database}\n",
    "\n",
    "Other conditions could be added."
   ]
  },
  {
   "cell_type": "markdown",
   "metadata": {},
   "source": [
    "The decision depends very much on whether the consumer expects one of the following travel patterns:\n",
    "    1. mostly city traffic\n",
    "    2. mostly highway traffic\n",
    "    3. a fair (even) mix of both"
   ]
  },
  {
   "cell_type": "markdown",
   "metadata": {},
   "source": [
    "**Which car (make and/or model) would be the best buy?**\n",
    "\n",
    "Based on the latest information, i.e. last three years (which include almost 4,000 vehicles), a model could recommend the most suitable car to buy based on the consumer's expected travel pattern. The output could be the top 5-10 make/model that satisfy each of the conditions and select the one that satisfies most conditions."
   ]
  },
  {
   "cell_type": "markdown",
   "metadata": {},
   "source": [
    "## Option 2: Environmental concerns of cities"
   ]
  },
  {
   "cell_type": "markdown",
   "metadata": {},
   "source": [
    "GHG emissions are a big deal - see: recent scandal on VW models and Dieselgate.\n",
    "The question seems particularly relevant for cities as they strive to improve air quality. It would be possible to look at the development of tail pipe CO2 emissions and/or GHG scores overall to determine how the total emission volume has changed over time (1984 to 2017) - and proportion that to the city-traffic {not broken out in dataset and would have to be calculated based on city gasoline consumption}."
   ]
  },
  {
   "cell_type": "markdown",
   "metadata": {},
   "source": [
    "It would be very interesting to correlate the changes to the:\n",
    "    1. share of electric vehicles (increasing over time)\n",
    "    2. share of cars with more passengers\n",
    "    3. share of cars with more loading capacity\n",
    "    4. automatic drive vs. stick shift\n",
    "    5. other"
   ]
  },
  {
   "cell_type": "markdown",
   "metadata": {},
   "source": [
    "**Which car (make and/or model) is the worst polluter each year and overall - in any condition, in cities specifically?**\n",
    "\n",
    "Based on the timeseries (1984 - 2017) the model could sum up emissions for each model and compare GHG scores.\n",
    "The cities could 'ban' older or specific models from the city or introduce an emission tax for the worst polluters."
   ]
  },
  {
   "cell_type": "markdown",
   "metadata": {},
   "source": [
    "**Which factors minimize CO2 or GHG pollution? Should cities allow only a specific size (# passengers, loading capacity) inside the city without taxation?**\n",
    "\n",
    "Similar to the above, it would make sense to look at the correlation between pollution per make/model and the specification factors."
   ]
  },
  {
   "cell_type": "markdown",
   "metadata": {},
   "source": [
    "## Option 3: Car maker competition"
   ]
  },
  {
   "cell_type": "markdown",
   "metadata": {},
   "source": [
    "The database is a very good basis for benchmarking car makers and their models against each other. Several performance aspects could be of interest to the car makers to compare:\n",
    "    1. Number of vehicles sold per year {delta in number of vehicles in database YoY}\n",
    "    2. MPG for comparable models {which need to be grouped based on size or engine specs}\n",
    "    3. Range for comparable models - city and highway or combined, electric vehicles among each other\n",
    "        subset: electric vehicles depending on which battery they use\n",
    "    4. CO2 emissions and GHG scores for comparable models or for their fleet as a whole\n",
    "    5. other?\n",
    "    "
   ]
  },
  {
   "cell_type": "markdown",
   "metadata": {},
   "source": [
    "** Who is the fairest of them all? - which car manufacturer sells the most vehicle? what kind are they?**\n",
    "\n",
    "Look at the year-over-year number of models in the database and group these by certain vehicle characteristics."
   ]
  },
  {
   "cell_type": "markdown",
   "metadata": {},
   "source": [
    "** Which of the car makers have the 'best fleet' that satifies the performance criteria above? Are there themes per car maker?**\n",
    "\n",
    "Look at each of the variables and put together a ranking. Accumulate the information {score maybe} per car maker and compare the portfolio / fleet aspect of that to say e.g. Toyota has the lowest overall CO2 emissions etc.\n",
    "Interesting aspect to also look at mean, standard deviation and other statistical metrics for each of the car makers' fleets."
   ]
  },
  {
   "cell_type": "markdown",
   "metadata": {},
   "source": [
    "# Alternative: Problem Statements for Datasets 1 Amazon pricing"
   ]
  },
  {
   "cell_type": "markdown",
   "metadata": {},
   "source": [
    "The Amazon dataset contains 250 individual products - nine of which have no 'sold by' information (164 rows) and might be taken out, because they represent a small subset of the overall product list.\n",
    "There are 2,892 vendors in the list - which seem to include 'errors' like \"'**** Amazing deals... ****'\" or similar. These are not really vendors and might have to be taken out. This clean-up could take a while, though.\n",
    "\n",
    "The information was scrapped of a database (or databases) on various dates between June and September 2016. These are not continuous days."
   ]
  },
  {
   "cell_type": "markdown",
   "metadata": {},
   "source": [
    "## Option 1: Link between ranking and pricing"
   ]
  },
  {
   "cell_type": "markdown",
   "metadata": {},
   "source": [
    "Look at the correlation and/or some form of scatterplot between rank (using: corrected rank) and price (using: last column, because assume that's what customer actually paid).\n",
    "Initial pass at the data (without any major clean) suggests that there is no strong correlation between the two variables."
   ]
  },
  {
   "cell_type": "markdown",
   "metadata": {},
   "source": [
    "## Option 2: Weighted rankings or statistics in various group formats"
   ]
  },
  {
   "cell_type": "markdown",
   "metadata": {},
   "source": [
    "### Option 2a: Grouped by available comparisons"
   ]
  },
  {
   "cell_type": "markdown",
   "metadata": {},
   "source": [
    "The number of times that a product was scrapped varies tremendously. The count of product names ranges from 1 to 154 rows for the same product. It could be interesting to look at ubiquitously available products with multiple price comparisons vs. singular products that don't really have a lot of comparisons:\n",
    "    1. ranking spreads for products with > 80 comparisons vs. products with <20 comparisons\n",
    "    2. price spreads\n",
    "\n",
    "Rankings and/or price information could be evaluated by the number of comparisons available - e.g. top rank for a product that is in the data set only 1x is not very meaningful, because there is no alternative offer considered."
   ]
  },
  {
   "cell_type": "markdown",
   "metadata": {},
   "source": [
    "### Option 2b: Grouped by \"sold by\" information"
   ]
  },
  {
   "cell_type": "markdown",
   "metadata": {},
   "source": [
    "Another comparison is between products \"sold by Amazon\" vs not and do something similar to the above - i.e. compare price and rankings to see whether it makes a difference if the same product comes directly from Amazon or not.\n",
    "    About ~5,800 lines contain the phrase \"sold by Amazon\" out of almost ~7,000 lines total\n",
    "\n",
    "Question to answer: is Amazon cheaper or not?"
   ]
  },
  {
   "cell_type": "markdown",
   "metadata": {},
   "source": [
    "## Option 3: Timeseries [complicated]"
   ]
  },
  {
   "cell_type": "markdown",
   "metadata": {},
   "source": [
    "Not sure whether this would work.\n",
    "| a. check if the same product has been pulled on different dates\n",
    "| b. if yes, look at how the ratings and prices have changed over time"
   ]
  }
 ],
 "metadata": {
  "kernelspec": {
   "display_name": "Python 3",
   "language": "python",
   "name": "python3"
  },
  "language_info": {
   "codemirror_mode": {
    "name": "ipython",
    "version": 3
   },
   "file_extension": ".py",
   "mimetype": "text/x-python",
   "name": "python",
   "nbconvert_exporter": "python",
   "pygments_lexer": "ipython3",
   "version": "3.6.3"
  }
 },
 "nbformat": 4,
 "nbformat_minor": 2
}
